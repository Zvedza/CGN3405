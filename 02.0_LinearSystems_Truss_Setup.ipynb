{
 "cells": [
  {
   "cell_type": "code",
   "execution_count": null,
   "metadata": {
    "collapsed": true
   },
   "outputs": [],
   "source": [
    "import numpy as np\n",
    "from math import cos, sin, radians"
   ]
  },
  {
   "cell_type": "code",
   "execution_count": null,
   "metadata": {
    "collapsed": true
   },
   "outputs": [],
   "source": [
    "def gaussSeidel(a,b):\n",
    "    # inset gauss seidel function here\n",
    "    return np.zeros([12,1]) # delete this when function is defined"
   ]
  },
  {
   "cell_type": "code",
   "execution_count": null,
   "metadata": {},
   "outputs": [],
   "source": [
    "b = np.array([0, 0, 0, 3500, 0, 0, 0, 0, 0, 0, 0, 0])\n",
    "xNames = ['Ax', 'Ay','AB', 'BC', 'CD', 'BD', 'DE', 'BE', 'EF', 'BF', 'AF', 'Cy']\n",
    "print(len(b), len(xNames))"
   ]
  },
  {
   "cell_type": "code",
   "execution_count": null,
   "metadata": {},
   "outputs": [],
   "source": [
    "r45 = radians(45)\n",
    "r60 = radians(60)\n",
    "print(\"45 degrees = {0} radians\".format(r45))\n",
    "print(\"60 degrees = {0} radians\".format(r60))"
   ]
  },
  {
   "cell_type": "code",
   "execution_count": null,
   "metadata": {},
   "outputs": [],
   "source": [
    "a = np.array([[1., 0., 1., 0., 0., 0., 0., 0., 0., 0., cos(r60), 0.],\n",
    "              [0, 1, 0, 0, 0, 0, 0, 0, 0, 0, sin(r60), 0],\n",
    "              [0, 0, -1, 1, 0, cos(r45), 0, 0, 0, -cos(r60), 0, 0],\n",
    "              [0, 0, 0, 0, 0, sin(r45), 0, 1, 0, sin(r60), 0,0],\n",
    "              [0, 0,0, -1, -cos(r45), 0, 0, 0, 0, 0, 0, 0],\n",
    "              [0, 0, 0, 0, sin(r45), 0, 0, 0, 0, 0, 0, 1],\n",
    "              [0, 0, 0, 0, cos(r45), -cos(r45), -1, 0, 0, 0, 0, 0],\n",
    "              [0, 0, 0, 0, -sin(r45), -sin(r45), 0, 0, 0, 0, 0, 0],\n",
    "              [0, 0, 0, 0, 0, 0, 1, 0, -1, 0, 0, 0],\n",
    "              [0, 0, 0, 0, 0, 0, 0, -1, 0, 0, 0, 0],\n",
    "              [0, 0, 0, 0, 0, 0, 0, 0, 1, cos(r60), -cos(r60), 0],\n",
    "              [0, 0, 0, 0, 0, 0, 0, 0, 0, -sin(r60), -sin(r60), 0],\n",
    "             ], dtype=np.float64)\n",
    "a.shape"
   ]
  },
  {
   "cell_type": "code",
   "execution_count": null,
   "metadata": {},
   "outputs": [],
   "source": [
    "a"
   ]
  },
  {
   "cell_type": "code",
   "execution_count": null,
   "metadata": {
    "collapsed": true
   },
   "outputs": [],
   "source": [
    "xGS = gaussSeidel(a,b)"
   ]
  },
  {
   "cell_type": "code",
   "execution_count": null,
   "metadata": {
    "collapsed": true
   },
   "outputs": [],
   "source": [
    "xNumpy = np.around(np.linalg.solve(a,b).reshape(12,1),2)"
   ]
  },
  {
   "cell_type": "code",
   "execution_count": null,
   "metadata": {},
   "outputs": [],
   "source": [
    "for i in zip(xNames, xGS, xNumpy):\n",
    "    print('{0} = {1} = {2}'.format(i[0], i[1][0], i[2][0]))"
   ]
  },
  {
   "cell_type": "code",
   "execution_count": null,
   "metadata": {
    "collapsed": true
   },
   "outputs": [],
   "source": []
  }
 ],
 "metadata": {
  "kernelspec": {
   "display_name": "Python 3",
   "language": "python",
   "name": "python3"
  },
  "language_info": {
   "codemirror_mode": {
    "name": "ipython",
    "version": 3
   },
   "file_extension": ".py",
   "mimetype": "text/x-python",
   "name": "python",
   "nbconvert_exporter": "python",
   "pygments_lexer": "ipython3",
   "version": "3.6.3"
  }
 },
 "nbformat": 4,
 "nbformat_minor": 2
}
